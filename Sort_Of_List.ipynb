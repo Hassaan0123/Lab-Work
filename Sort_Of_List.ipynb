{
  "nbformat": 4,
  "nbformat_minor": 0,
  "metadata": {
    "colab": {
      "name": "Sort Of List.ipynb",
      "provenance": [],
      "collapsed_sections": []
    },
    "kernelspec": {
      "name": "python3",
      "display_name": "Python 3"
    },
    "language_info": {
      "name": "python"
    }
  },
  "cells": [
    {
      "cell_type": "markdown",
      "source": [
        "Q) Make a list of ten cities of Pakistan, apply temporary, permanent and reverse sort.\n",
        "Make a sublist of the above list and slice cities from location 4 to 8 from main list, store the sublist in another list and print it"
      ],
      "metadata": {
        "id": "uFprne6xXuYE"
      }
    },
    {
      "cell_type": "code",
      "source": [
        "cities = [\"Karachi\",\"Laohre\",\"Peshawar\",\"Sialkot\",\"Quetta\",\"Hyderabad\",\"Multan\",\"Islamabad\",\"Faisalabad\",\"Larkana\"]\n",
        "print(sorted(cities))"
      ],
      "metadata": {
        "colab": {
          "base_uri": "https://localhost:8080/"
        },
        "id": "VrxpFrYhPv9d",
        "outputId": "9a3359a2-0707-4ee1-b22f-2f39b3dcad5d"
      },
      "execution_count": 12,
      "outputs": [
        {
          "output_type": "stream",
          "name": "stdout",
          "text": [
            "['Faisalabad', 'Hyderabad', 'Islamabad', 'Karachi', 'Laohre', 'Larkana', 'Multan', 'Peshawar', 'Quetta', 'Sialkot']\n"
          ]
        }
      ]
    },
    {
      "cell_type": "code",
      "source": [
        "cities = [\"Karachi\",\"Laohre\",\"Peshawar\",\"Sialkot\",\"Quetta\",\"Hyderabad\",\"Multan\",\"Islamabad\",\"Faisalabad\",\"Larkana\"]\n",
        "cities.sort()\n",
        "cities[:]"
      ],
      "metadata": {
        "colab": {
          "base_uri": "https://localhost:8080/"
        },
        "id": "LU3CVeS2QrkR",
        "outputId": "72e4f9b0-b124-4d33-e1e8-833492edc97a"
      },
      "execution_count": 14,
      "outputs": [
        {
          "output_type": "execute_result",
          "data": {
            "text/plain": [
              "['Faisalabad',\n",
              " 'Hyderabad',\n",
              " 'Islamabad',\n",
              " 'Karachi',\n",
              " 'Laohre',\n",
              " 'Larkana',\n",
              " 'Multan',\n",
              " 'Peshawar',\n",
              " 'Quetta',\n",
              " 'Sialkot']"
            ]
          },
          "metadata": {},
          "execution_count": 14
        }
      ]
    },
    {
      "cell_type": "code",
      "source": [
        "cities = [\"Karachi\",\"Laohre\",\"Peshawar\",\"Sialkot\",\"Quetta\",\"Hyderabad\",\"Multan\",\"Islamabad\",\"Faisalabad\",\"Larkana\"]\n",
        "cities.sort(reverse=True)\n",
        "cities[:]"
      ],
      "metadata": {
        "colab": {
          "base_uri": "https://localhost:8080/"
        },
        "id": "39TY7jhITkEJ",
        "outputId": "f0621320-d3df-4132-f5ec-3471dec0d4de"
      },
      "execution_count": 16,
      "outputs": [
        {
          "output_type": "execute_result",
          "data": {
            "text/plain": [
              "['Sialkot',\n",
              " 'Quetta',\n",
              " 'Peshawar',\n",
              " 'Multan',\n",
              " 'Larkana',\n",
              " 'Laohre',\n",
              " 'Karachi',\n",
              " 'Islamabad',\n",
              " 'Hyderabad',\n",
              " 'Faisalabad']"
            ]
          },
          "metadata": {},
          "execution_count": 16
        }
      ]
    },
    {
      "cell_type": "code",
      "source": [
        "cities = [\"Karachi\",\"Laohre\",\"Peshawar\",\"Sialkot\",\"Quetta\",\"Hyderabad\",\"Multan\",\"Islamabad\",\"Faisalabad\",\"Larkana\"]\n",
        "sub_cities = (cities[4:8])\n",
        "print(sub_cities)"
      ],
      "metadata": {
        "colab": {
          "base_uri": "https://localhost:8080/"
        },
        "id": "9sJVbmTDT5eT",
        "outputId": "bbad21b6-a501-42bb-dc08-fac40b451038"
      },
      "execution_count": 24,
      "outputs": [
        {
          "output_type": "stream",
          "name": "stdout",
          "text": [
            "['Quetta', 'Hyderabad', 'Multan', 'Islamabad']\n"
          ]
        }
      ]
    },
    {
      "cell_type": "code",
      "source": [
        ""
      ],
      "metadata": {
        "id": "alFqptDNWMIJ"
      },
      "execution_count": null,
      "outputs": []
    }
  ]
}